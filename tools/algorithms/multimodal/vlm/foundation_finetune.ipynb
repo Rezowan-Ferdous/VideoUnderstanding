{
 "cells": [
  {
   "cell_type": "code",
   "execution_count": null,
   "id": "254d5046",
   "metadata": {},
   "outputs": [],
   "source": []
  },
  {
   "cell_type": "code",
   "execution_count": 7,
   "id": "eff5bcea",
   "metadata": {},
   "outputs": [
    {
     "name": "stderr",
     "output_type": "stream",
     "text": [
      "c:\\Users\\rezow\\anaconda3\\envs\\myenv\\Lib\\site-packages\\huggingface_hub\\file_download.py:143: UserWarning: `huggingface_hub` cache-system uses symlinks by default to efficiently store duplicated files but your machine does not support them in C:\\Users\\rezow\\.cache\\huggingface\\hub\\datasets--nick007x--arxiv-papers. Caching files will still work but in a degraded version that might require more space on your disk. This warning can be disabled by setting the `HF_HUB_DISABLE_SYMLINKS_WARNING` environment variable. For more details, see https://huggingface.co/docs/huggingface_hub/how-to-cache#limitations.\n",
      "To support symlinks on Windows, you either need to activate Developer Mode or to run Python as an administrator. In order to activate developer mode, see this article: https://docs.microsoft.com/en-us/windows/apps/get-started/enable-your-device-for-development\n",
      "  warnings.warn(message)\n",
      "Xet Storage is enabled for this repo, but the 'hf_xet' package is not installed. Falling back to regular HTTP download. For better performance, install the package with: `pip install huggingface_hub[hf_xet]` or `pip install hf_xet`\n",
      "Generating train split: 100%|██████████| 2549619/2549619 [00:04<00:00, 558544.61 examples/s]\n"
     ]
    }
   ],
   "source": [
    "\n",
    "from datasets import load_dataset \n",
    "\n",
    "caption_dataset = load_dataset(\"ybelkada/football-dataset\", split=\"train\")\n",
    "arxv_dataset= load_dataset(\"nick007x/arxiv-papers\", split=\"train\")\n",
    "vqa_dataset = load_dataset(\"MathLLMs/MathVision\", split=\"test\", streaming=True)\n",
    "toy_dataset = list(vqa_dataset.take(1000))"
   ]
  },
  {
   "cell_type": "code",
   "execution_count": null,
   "id": "77998078",
   "metadata": {},
   "outputs": [],
   "source": []
  }
 ],
 "metadata": {
  "kernelspec": {
   "display_name": "myenv",
   "language": "python",
   "name": "python3"
  },
  "language_info": {
   "codemirror_mode": {
    "name": "ipython",
    "version": 3
   },
   "file_extension": ".py",
   "mimetype": "text/x-python",
   "name": "python",
   "nbconvert_exporter": "python",
   "pygments_lexer": "ipython3",
   "version": "3.11.11"
  }
 },
 "nbformat": 4,
 "nbformat_minor": 5
}
